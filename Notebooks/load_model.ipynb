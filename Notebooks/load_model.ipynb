{
 "cells": [
  {
   "cell_type": "code",
   "execution_count": 1,
   "id": "fe337f6d-20b2-4d7d-b629-fd032f34dd22",
   "metadata": {
    "executionInfo": {
     "elapsed": 3883,
     "status": "ok",
     "timestamp": 1717144734523,
     "user": {
      "displayName": "Deep Amicizia",
      "userId": "02523504638128104887"
     },
     "user_tz": -120
    },
    "id": "f6a68b4e-8656-4dea-baf6-7fa911a9756c",
    "tags": []
   },
   "outputs": [],
   "source": [
    "import torch\n",
    "from torch import nn\n",
    "from torch.utils.data import Dataset, DataLoader\n",
    "import torch.optim.lr_scheduler as lr_scheduler\n",
    "from torchvision.transforms import v2\n",
    "\n",
    "import pandas as pd\n",
    "import numpy as np\n",
    "import matplotlib.pyplot as plt\n",
    "from sklearn.metrics import roc_curve, precision_recall_curve, confusion_matrix\n",
    "import math"
   ]
  },
  {
   "cell_type": "code",
   "execution_count": 2,
   "id": "d0365a09-8625-4cdf-864e-7038cce0b032",
   "metadata": {},
   "outputs": [
    {
     "name": "stdout",
     "output_type": "stream",
     "text": [
      "train path is set to: ../Dataset/fullset_train.csv\n"
     ]
    }
   ],
   "source": [
    "import os\n",
    "import sys\n",
    "\n",
    "train_path, validation_path, test_path = \"\", \"\", \"\"\n",
    "\n",
    "# Function to detect the environment\n",
    "def detect_environment():\n",
    "    # Check if Google Colab\n",
    "    try:\n",
    "        import google.colab\n",
    "        return 'colab'\n",
    "    except ImportError:\n",
    "        pass\n",
    "    \n",
    "    # Check if Jupyter Notebook\n",
    "    try:\n",
    "        shell = get_ipython().__class__.__name__\n",
    "        if shell == 'ZMQInteractiveShell':\n",
    "            return 'jupyter'\n",
    "        elif shell == 'TerminalInteractiveShell':\n",
    "            return 'terminal'\n",
    "        else:\n",
    "            return 'other'\n",
    "    except NameError:\n",
    "        return 'other'\n",
    "\n",
    "# Set paths based on the detected environment\n",
    "env = detect_environment()\n",
    "\n",
    "if env == 'colab':\n",
    "    from google.colab import drive\n",
    "    drive.mount('/content/drive')\n",
    "    \n",
    "    train_path = \"/content/drive/MyDrive/fullset_train.csv\"\n",
    "    validation_path = \"/content/drive/MyDrive/fullset_validation.csv\"\n",
    "    test_path = \"/content/drive/MyDrive/fullset_test.csv\"\n",
    "elif env == 'jupyter':\n",
    "    # supposed on GitHub\n",
    "    train_path = \"../Dataset/fullset_train.csv\"\n",
    "    validation_path = \"../Dataset/fullset_validation.csv\"\n",
    "    test_path = \"../Dataset/fullset_test.csv\"\n",
    "else:\n",
    "    print(\"Unknown environment. Please set paths manually.\")\n",
    "\n",
    "# Use the DATA_PATH in your code\n",
    "if train_path:\n",
    "    print(f\"train path is set to: {train_path}\")\n",
    "else:\n",
    "    print(\"train_path is not set. Please check your environment settings.\")\n"
   ]
  },
  {
   "cell_type": "code",
   "execution_count": 3,
   "id": "b85a97bd-7bf4-4d93-88d5-3ae6d3624118",
   "metadata": {},
   "outputs": [
    {
     "name": "stdout",
     "output_type": "stream",
     "text": [
      "Device: cuda\n"
     ]
    }
   ],
   "source": [
    "# device detection\n",
    "device = torch.device('cuda' if torch.cuda.is_available() else 'cpu')\n",
    "print(\"Device:\", device)"
   ]
  },
  {
   "cell_type": "code",
   "execution_count": 4,
   "id": "e832c01a-518d-44a4-be46-e411a8f8e0c5",
   "metadata": {},
   "outputs": [],
   "source": [
    "# HYPERPARAMETERS\n",
    "n_bases = 4\n",
    "\n",
    "isWeighted = True\n",
    "pos_weights_ratio = 1\n",
    "batch_size = 256\n",
    "learning_rate = 1e-3\n",
    "n_epochs = 30\n",
    "\n",
    "loss_info_ratio = 1"
   ]
  },
  {
   "cell_type": "code",
   "execution_count": 5,
   "id": "3ab71bb4-b8e7-4d36-b66f-de4e5828560e",
   "metadata": {},
   "outputs": [],
   "source": [
    "# GPU version (immediately moves the data on GPU to enanche performaces)\n",
    "def convert_string_sequence_into_array(sequence):\n",
    "    result = np.zeros(shape=(1, n_bases, len(sequence)))\n",
    "    base_dict = {'A': 0, 'C': 1, 'G': 2, 'T': 3}\n",
    "    for idx, base in enumerate(sequence.upper()):\n",
    "        result[0, base_dict[base], idx] = 1\n",
    "    return result\n",
    "\n",
    "class DNADatasetForGPU(Dataset):\n",
    "\n",
    "    def __init__(self, csv_path):\n",
    "        df = pd.read_csv(csv_path, header=0, names=['seq_id', 'sequence', 'label'])\n",
    "\n",
    "        self.y = torch.tensor(df['label'].values).float().view(-1, 1).to(device)\n",
    "        self.x = torch.tensor(\n",
    "            np.array([convert_string_sequence_into_array(seq) for seq in df['sequence']])\n",
    "        ).float().to(device)\n",
    "\n",
    "    def __len__(self):\n",
    "        return len(self.y)\n",
    "\n",
    "    def __getitem__(self, idx):\n",
    "        return self.x[idx], self.y[idx]"
   ]
  },
  {
   "cell_type": "code",
   "execution_count": 6,
   "id": "8e6068f7-5390-4bfd-a4e1-8f59a5225c99",
   "metadata": {},
   "outputs": [
    {
     "name": "stdout",
     "output_type": "stream",
     "text": [
      "211238 26404 26404\n",
      "pos_weight: 46.29914855957031\n",
      "pos_weight tensor size: torch.Size([1])\n"
     ]
    }
   ],
   "source": [
    "# DATASET EXTRACTION\n",
    "train_dataset = DNADatasetForGPU(train_path)\n",
    "\n",
    "val_dataset = DNADatasetForGPU(validation_path)\n",
    "\n",
    "test_dataset = DNADatasetForGPU(test_path)\n",
    "\n",
    "print(len(train_dataset), len(val_dataset), len(test_dataset))\n",
    "\n",
    "# calculating the ratio between the classes\n",
    "if isWeighted:\n",
    "    n_pos_examples = (train_dataset.y == 1).sum().item()\n",
    "    n_neg_examples = len(train_dataset) - n_pos_examples\n",
    "    pos_weight = n_neg_examples / float(n_pos_examples)\n",
    "    \n",
    "    pos_weight_tensor = torch.tensor([pos_weights_ratio * pos_weight]).to(device)\n",
    "\n",
    "    print(\"pos_weight:\", pos_weight_tensor.item())\n",
    "    print(\"pos_weight tensor size:\", pos_weight_tensor.shape)"
   ]
  },
  {
   "cell_type": "code",
   "execution_count": 7,
   "id": "6df60c0f-b538-4117-8d75-8ec784b5683c",
   "metadata": {},
   "outputs": [],
   "source": [
    "# Dataloader declarations\n",
    "train_dataloader = DataLoader(train_dataset, batch_size=batch_size, shuffle=True)\n",
    "\n",
    "val_dataloader = DataLoader(val_dataset, batch_size=batch_size)\n",
    "\n",
    "test_dataloader = DataLoader(test_dataset, batch_size=batch_size)"
   ]
  },
  {
   "cell_type": "code",
   "execution_count": 8,
   "id": "42a863f4-8b40-48eb-9b79-f3c06f6b5e4c",
   "metadata": {},
   "outputs": [],
   "source": [
    "class AttentionBlock(nn.Module):\n",
    "    def __init__(self, input_dim, hidden_dim):\n",
    "        super(AttentionBlock, self).__init__()\n",
    "        self.attention = nn.Sequential(\n",
    "            nn.Linear(input_dim, hidden_dim),\n",
    "            nn.Tanh(),\n",
    "            nn.Linear(hidden_dim, 1)\n",
    "        )\n",
    "\n",
    "    def forward(self, x):\n",
    "        attention_weights = torch.softmax(self.attention(x).squeeze(-1), dim=-1)\n",
    "        return torch.sum(x * attention_weights.unsqueeze(-1), dim=1)\n",
    "        \n",
    "class EnhancedVirusModel2(nn.Module):\n",
    "    def __init__(self, maps=64, hidden=32):\n",
    "        super(EnhancedVirusModel2, self).__init__()\n",
    "        self.maps = maps\n",
    "        \n",
    "        self.conv = nn.Conv2d(1, maps, kernel_size=(4, 5))\n",
    "        self.batch_norm = nn.BatchNorm2d(maps)\n",
    "        self.relu = nn.ReLU()\n",
    "        self.max = nn.MaxPool2d(kernel_size=(1, 2))\n",
    "        self.lstm = nn.LSTM(maps, hidden, bidirectional=True, batch_first=True)\n",
    "        self.attention = AttentionBlock(hidden*2, hidden)\n",
    "        self.fc = nn.Linear(hidden*2, 1)\n",
    "        self.dropout = nn.Dropout(0.5)\n",
    "\n",
    "    def forward(self, x):\n",
    "        #x = x.view(x.size(0), x.size(2), x.size(3))\n",
    "        #x = torch.transpose(x, -1, -2)\n",
    "        x = self.relu(self.batch_norm(self.conv(x)))\n",
    "        x = self.max(x)\n",
    "        x = self.dropout(x)\n",
    "        \n",
    "        # size [batch_size, self.maps, 1, 147] into [batch_size, 147, self.maps]\n",
    "        x = x.permute(0, 3, 1, 2).contiguous()\n",
    "        x = x.view(x.size(0), x.size(1), -1)\n",
    "        x, _ = self.lstm(x)\n",
    "        x = self.attention(x)\n",
    "        x = self.dropout(x)\n",
    "        return self.fc(x)"
   ]
  },
  {
   "cell_type": "code",
   "execution_count": 9,
   "id": "14111527-7e66-451a-87f2-66ef018ab3d7",
   "metadata": {},
   "outputs": [],
   "source": [
    "model = EnhancedVirusModel2(maps=128, hidden=64).to(device)"
   ]
  },
  {
   "cell_type": "code",
   "execution_count": 10,
   "id": "f26e2a51-cfd8-4b58-8ba7-1d89a11eb1f4",
   "metadata": {},
   "outputs": [
    {
     "name": "stderr",
     "output_type": "stream",
     "text": [
      "C:\\Users\\Matteo Ruta\\AppData\\Local\\Temp\\ipykernel_21724\\224911122.py:1: FutureWarning: You are using `torch.load` with `weights_only=False` (the current default value), which uses the default pickle module implicitly. It is possible to construct malicious pickle data which will execute arbitrary code during unpickling (See https://github.com/pytorch/pytorch/blob/main/SECURITY.md#untrusted-models for more details). In a future release, the default value for `weights_only` will be flipped to `True`. This limits the functions that could be executed during unpickling. Arbitrary objects will no longer be allowed to be loaded via this mode unless they are explicitly allowlisted by the user via `torch.serialization.add_safe_globals`. We recommend you start setting `weights_only=True` for any use case where you don't have full control of the loaded file. Please open an issue on GitHub for any issues related to this experimental feature.\n",
      "  model.load_state_dict(torch.load('../Models/EVM2_cyclicRate_1conv_Xavier.pth'))\n"
     ]
    },
    {
     "data": {
      "text/plain": [
       "<All keys matched successfully>"
      ]
     },
     "execution_count": 10,
     "metadata": {},
     "output_type": "execute_result"
    }
   ],
   "source": [
    "model.load_state_dict(torch.load('../Models/EVM2_cyclicRate_1conv_Xavier.pth'))"
   ]
  },
  {
   "cell_type": "code",
   "execution_count": 11,
   "id": "8240a024-76a6-4fc3-a49b-c4051857449f",
   "metadata": {},
   "outputs": [
    {
     "data": {
      "image/png": "[encoded data removed]",
      "text/plain": [
       "<Figure size 640x480 with 1 Axes>"
      ]
     },
     "metadata": {},
     "output_type": "display_data"
    }
   ],
   "source": [
    "# computing ROC curve using sklearn.metrics\n",
    "# with this implementation, we repeat the same validation_loop we did in the last epoch\n",
    "# maybe this thing could be done better\n",
    "model.eval()\n",
    "ground_truth = val_dataset.y.cpu().numpy()\n",
    "pred_probabilities = []\n",
    "#pred_probabilities = torch.Tensor.numpy(nn.Sigmoid()(model(validation_dataset.features)).cpu())\n",
    "\n",
    "with torch.no_grad():\n",
    "    for X, y in val_dataloader:\n",
    "        #X = X.to(device)\n",
    "        #y = y.to(device)\n",
    "        \n",
    "        y_pred = model(X)\n",
    "        prob_pred = nn.functional.sigmoid(y_pred)\n",
    "\n",
    "        pred_probabilities.extend(prob_pred.cpu().numpy())\n",
    "\n",
    "pred_probabilities = np.array(pred_probabilities)\n",
    "\n",
    "precision, recall, pr_thresholds = precision_recall_curve(ground_truth, pred_probabilities)\n",
    "\n",
    "plt.plot(recall, precision)\n",
    "plt.xlabel('Recall')\n",
    "plt.ylabel('Precision')\n",
    "plt.show()"
   ]
  },
  {
   "cell_type": "code",
   "execution_count": 15,
   "id": "426c05dc-cc6b-4d5a-8671-7f53f43627c4",
   "metadata": {},
   "outputs": [
    {
     "name": "stdout",
     "output_type": "stream",
     "text": [
      "Selected threshold: 0.9273868\n"
     ]
    }
   ],
   "source": [
    "selected_precision = 0.6\n",
    "target = np.argmin(abs(precision - selected_precision))\n",
    "threshold = pr_thresholds[target]\n",
    "print(\"Selected threshold:\", threshold)"
   ]
  },
  {
   "cell_type": "code",
   "execution_count": 16,
   "id": "aeddb799-e29a-457e-aee2-4c4b110c6a45",
   "metadata": {},
   "outputs": [
    {
     "name": "stderr",
     "output_type": "stream",
     "text": [
      "C:\\Users\\Matteo Ruta\\AppData\\Local\\Temp\\ipykernel_17152\\3620657524.py:19: UserWarning: set_ticklabels() should only be used with a fixed number of ticks, i.e. after set_ticks() or using a FixedLocator.\n",
      "  ax.set_xticklabels([''] + ['Predicted Positive', 'Predicted Negative'])\n",
      "C:\\Users\\Matteo Ruta\\AppData\\Local\\Temp\\ipykernel_17152\\3620657524.py:20: UserWarning: set_ticklabels() should only be used with a fixed number of ticks, i.e. after set_ticks() or using a FixedLocator.\n",
      "  ax.set_yticklabels([''] + ['Actual Positive', 'Actual Negative'])\n"
     ]
    },
    {
     "data": {
      "image/png": "[encoded data removed]",
      "text/plain": [
       "<Figure size 640x480 with 2 Axes>"
      ]
     },
     "metadata": {},
     "output_type": "display_data"
    }
   ],
   "source": [
    "cm = confusion_matrix(ground_truth, (pred_probabilities > threshold).astype(int))\n",
    "# cm shape\n",
    "# [[TN, FP]\n",
    "#  [FN, TP]]\n",
    "cm = np.flip(cm)\n",
    "\n",
    "# Plotting the confusion matrix\n",
    "fig, ax = plt.subplots()\n",
    "cax = ax.matshow(cm, cmap=plt.cm.Blues)\n",
    "\n",
    "# Add color bar\n",
    "plt.colorbar(cax)\n",
    "\n",
    "# Annotate the matrix with the counts\n",
    "for (i, j), val in np.ndenumerate(cm):\n",
    "    ax.text(j, i, f'{val}', ha='center', va='center', color='red')\n",
    "\n",
    "# Set labels\n",
    "ax.set_xticklabels([''] + ['Predicted Positive', 'Predicted Negative'])\n",
    "ax.set_yticklabels([''] + ['Actual Positive', 'Actual Negative'])\n",
    "\n",
    "# Set axis labels\n",
    "plt.xlabel('Predicted')\n",
    "plt.ylabel('Actual')\n",
    "\n",
    "# Show plot\n",
    "plt.show()"
   ]
  }
 ],
 "metadata": {
  "kernelspec": {
   "display_name": "Python 3 (ipykernel)",
   "language": "python",
   "name": "python3"
  },
  "language_info": {
   "codemirror_mode": {
    "name": "ipython",
    "version": 3
   },
   "file_extension": ".py",
   "mimetype": "text/x-python",
   "name": "python",
   "nbconvert_exporter": "python",
   "pygments_lexer": "ipython3",
   "version": "3.12.4"
  }
 },
 "nbformat": 4,
 "nbformat_minor": 5
}
